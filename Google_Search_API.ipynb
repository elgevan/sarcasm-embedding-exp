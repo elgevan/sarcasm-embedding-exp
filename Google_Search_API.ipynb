{
  "nbformat": 4,
  "nbformat_minor": 0,
  "metadata": {
    "colab": {
      "provenance": [],
      "authorship_tag": "ABX9TyNi87+HTvDvUqzSiyqISJEI",
      "include_colab_link": true
    },
    "kernelspec": {
      "name": "python3",
      "display_name": "Python 3"
    },
    "language_info": {
      "name": "python"
    }
  },
  "cells": [
    {
      "cell_type": "markdown",
      "metadata": {
        "id": "view-in-github",
        "colab_type": "text"
      },
      "source": [
        "<a href=\"https://colab.research.google.com/github/elgevan/sarcasm-embedding-exp/blob/main/Google_Search_API.ipynb\" target=\"_parent\"><img src=\"https://colab.research.google.com/assets/colab-badge.svg\" alt=\"Open In Colab\"/></a>"
      ]
    },
    {
      "cell_type": "code",
      "execution_count": null,
      "metadata": {
        "id": "LEotTRIdWfNP"
      },
      "outputs": [],
      "source": [
        "from google.colab import userdata\n",
        "import requests\n",
        "import os\n",
        "\n",
        "def search_web(api_key, cse_id, search_query):\n",
        "  \"\"\"\n",
        "  Performs a Google Custom Search for YouTube videos with specified criteria.\n",
        "\n",
        "  Args:\n",
        "    api_key: Your Google Custom Search JSON API key.\n",
        "    cse_id: Your Custom Search Engine ID.\n",
        "    search_query: The search query string.\n",
        "\n",
        "  Returns:\n",
        "    A dictionary containing the search results, or None if an error occurred.\n",
        "  \"\"\"\n",
        "  url = \"https://www.googleapis.com/customsearch/v1\"\n",
        "\n",
        "  params = {\n",
        "      'key': api_key,\n",
        "      'cx': cse_id,\n",
        "      'q': search_query,\n",
        "      'lr': 'lang_id',  # Restrict to Indonesian language\n",
        "      'cr': 'countryID', # Restrict to Indonesia\n",
        "      'dateRestrict': 'd7', # Restrict to the last 7 days\n",
        "      'safe': 'active'\n",
        "  }\n",
        "\n",
        "  try:\n",
        "    response = requests.get(url, params=params)\n",
        "    response.raise_for_status()\n",
        "    return response.json()\n",
        "  except requests.exceptions.RequestException as e:\n",
        "    print(f\"An error occurred: {e}\")\n",
        "    return None\n",
        "\n",
        "# Replace with your actual API key and CSE ID\n",
        "api_key = userdata.get('GOOGLE_SEARCH_TOKEN')\n",
        "cse_id = userdata.get(\"CSE_ID\")\n",
        "search_query = \"video youtube teratas\"\n",
        "\n",
        "\n",
        "if api_key and cse_id:\n",
        "    results = search_web(api_key, cse_id, search_query)\n",
        "\n",
        "    if results:\n",
        "      if 'items' in results:\n",
        "        print(\"Search Results:\")\n",
        "        for item in results['items']:\n",
        "          print(f\"  Title: {item['title']}\")\n",
        "          print(f\"  Link: {item['link']}\")\n",
        "          print(f\"  Snippet: {item['snippet']}\")\n",
        "          print(\"-\" * 20)\n",
        "      else:\n",
        "        print(\"No results found.\")\n",
        "else:\n",
        "  print(\"Error: API key or CSE ID not set.\")"
      ]
    },
    {
      "cell_type": "code",
      "source": [],
      "metadata": {
        "id": "TL3Mj2u7ZGuT"
      },
      "execution_count": null,
      "outputs": []
    }
  ]
}