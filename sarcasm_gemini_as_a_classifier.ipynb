{
  "nbformat": 4,
  "nbformat_minor": 0,
  "metadata": {
    "colab": {
      "provenance": [],
      "authorship_tag": "ABX9TyOnIdzRTRZWDr1xUngCtubz",
      "include_colab_link": true
    },
    "kernelspec": {
      "name": "python3",
      "display_name": "Python 3"
    },
    "language_info": {
      "name": "python"
    }
  },
  "cells": [
    {
      "cell_type": "markdown",
      "metadata": {
        "id": "view-in-github",
        "colab_type": "text"
      },
      "source": [
        "<a href=\"https://colab.research.google.com/github/elgevan/sarcasm-embedding-exp/blob/main/sarcasm_gemini_as_a_classifier.ipynb\" target=\"_parent\"><img src=\"https://colab.research.google.com/assets/colab-badge.svg\" alt=\"Open In Colab\"/></a>"
      ]
    },
    {
      "cell_type": "code",
      "source": [
        "import google.generativeai as genai\n",
        "import kagglehub\n",
        "import os\n",
        "import pandas as pd\n",
        "\n",
        "from google.colab import userdata\n",
        "from sklearn.metrics import accuracy_score"
      ],
      "metadata": {
        "id": "DjLy8sbl051G"
      },
      "execution_count": 1,
      "outputs": []
    },
    {
      "cell_type": "code",
      "source": [
        "path = kagglehub.dataset_download(\"rmisra/news-headlines-dataset-for-sarcasm-detection\")\n",
        "df = pd.read_json(path + '/Sarcasm_Headlines_Dataset.json', lines=True)\n",
        "df = df[['headline', 'is_sarcastic']]"
      ],
      "metadata": {
        "id": "THUmsnXW007M",
        "colab": {
          "base_uri": "https://localhost:8080/"
        },
        "outputId": "48b83a4e-fa47-4eac-cc55-7a3bf93809a2"
      },
      "execution_count": 2,
      "outputs": [
        {
          "output_type": "stream",
          "name": "stdout",
          "text": [
            "Warning: Looks like you're using an outdated `kagglehub` version (installed: 0.3.5), please consider upgrading to the latest version (0.3.6).\n"
          ]
        }
      ]
    },
    {
      "cell_type": "code",
      "source": [
        "os.environ['GEMINI_TOKEN'] = userdata.get('GEMINI_TOKEN')\n",
        "genai.configure(api_key=os.environ['GEMINI_TOKEN'])\n",
        "model = genai.GenerativeModel('gemini-1.5-flash')"
      ],
      "metadata": {
        "id": "wcqIP8ZCkc7g"
      },
      "execution_count": 3,
      "outputs": []
    },
    {
      "cell_type": "code",
      "source": [
        "def classify_headline(headline, model):\n",
        "    \"\"\"\n",
        "    Classifies a headline as either \"Parody\" (1) or \"News\" (0) using Gemini,\n",
        "    forcing a structured boolean output.\n",
        "\n",
        "    Args:\n",
        "        headline: The headline string to classify.\n",
        "        model: The Gemini model to use for classification.\n",
        "\n",
        "    Returns:\n",
        "        classification: 1 for \"Parody\", 0 for \"News\".\n",
        "    \"\"\"\n",
        "    prompt = f\"\"\"\n",
        "        You are a headline classifier. Determine if the following headline is a \"Parody\" (satirical, humorous) or a \"News\" headline (factual, reporting on real events).\n",
        "\n",
        "        Consider the following factors:\n",
        "            * **Exaggeration/Sensationalism:** Parody headlines often use extreme or absurd language.\n",
        "            * **Humor/Irony:** Parody relies on humor and irony that wouldn't be typical in a serious news article.\n",
        "            * **Realism/Plausibility:** Parody headlines often describe events that are highly improbable or impossible.\n",
        "            * **Source (Optional):** If you know the source of a headline, it can be a strong indicator (e.g., The Onion is known for parody). For this exercise, **do not make assumptions about the source if it's not provided.**\n",
        "\n",
        "        Headline: \"{headline}\"\n",
        "\n",
        "        Respond with only a single number:\n",
        "        - 1 if the headline is a \"Parody\"\n",
        "        - 0 if the headline is \"News\"\n",
        "\n",
        "        Do not provide any other text or explanation.\n",
        "        \"\"\"\n",
        "\n",
        "    try:\n",
        "        response = model.generate_content(\n",
        "            prompt,\n",
        "            generation_config=genai.types.GenerationConfig(\n",
        "                candidate_count=1,\n",
        "                max_output_tokens=1,\n",
        "                temperature=0.0,\n",
        "            )\n",
        "        )\n",
        "\n",
        "        try:\n",
        "            classification = int(response.text.strip())\n",
        "            if classification in [0, 1]:\n",
        "                return classification\n",
        "            else:\n",
        "                print(f\"Warning: Invalid classification value: '{classification}'. Returning None.\")\n",
        "                return None\n",
        "        except ValueError:\n",
        "            print(f\"Warning: Could not parse classification from response: '{response.text}'. Returning None.\")\n",
        "            return None\n",
        "\n",
        "    except Exception as e:\n",
        "        print(f\"An error occurred: {e}\")\n",
        "        return None"
      ],
      "metadata": {
        "id": "Rl7aNPjbuZIA"
      },
      "execution_count": 4,
      "outputs": []
    },
    {
      "cell_type": "code",
      "source": [
        "results = []\n",
        "for index, row in df.iterrows():\n",
        "    headline = row['headline']\n",
        "    is_sarcastic = row['is_sarcastic']\n",
        "    classification = classify_headline(headline, model)\n",
        "    results.append({\n",
        "        'headline': headline,\n",
        "        'is_sarcastic_pred': classification,\n",
        "        'is_sarcastic': is_sarcastic\n",
        "    })\n",
        "\n",
        "result_df = pd.DataFrame(results)"
      ],
      "metadata": {
        "id": "IUsXjMymyWFD"
      },
      "execution_count": 5,
      "outputs": []
    },
    {
      "cell_type": "code",
      "source": [
        "print(accuracy_score(result_df['is_sarcastic'], result_df['is_sarcastic_pred']))"
      ],
      "metadata": {
        "colab": {
          "base_uri": "https://localhost:8080/"
        },
        "id": "93IuOl1_uv8f",
        "outputId": "8f76d488-c9c3-40c9-a275-617817ec7334"
      },
      "execution_count": 8,
      "outputs": [
        {
          "output_type": "stream",
          "name": "stdout",
          "text": [
            "0.8041858549552585\n"
          ]
        }
      ]
    }
  ]
}